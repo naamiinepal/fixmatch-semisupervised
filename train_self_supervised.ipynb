{
 "cells": [
  {
   "cell_type": "markdown",
   "metadata": {},
   "source": [
    "Weak vs Strong Augmentation\n",
    "<img src=\"./docs/Figure_1.png\" alt=\"weak-strong-augment\" width=\"400\"/>\n"
   ]
  },
  {
   "cell_type": "code",
   "execution_count": 28,
   "metadata": {},
   "outputs": [],
   "source": [
    "from csv_dataset import CSVDataset\n",
    "from transforms import get_data_transform\n",
    "import matplotlib.pyplot as plt\n",
    "import numpy as np\n",
    "import torchvision\n"
   ]
  },
  {
   "cell_type": "code",
   "execution_count": 29,
   "metadata": {},
   "outputs": [],
   "source": [
    "data_root_dir = 'isic_challenge/ISBI2016_ISIC_Part3B_Training_Data'\n",
    "csv_path = 'isic_challenge/ISBI2016_ISIC_Part3B_Training_GroundTruth.csv'\n",
    "IMG_SIZE = 224\n",
    "img_transform = get_data_transform(IMG_SIZE)\n",
    "\n",
    "ISIC_LABELS  = ['benign','malignant']\n",
    "ISIC_LABELS_TO_IDX = {l:idx for idx, l in enumerate(ISIC_LABELS)}\n",
    "def isic_label_to_idx(label):\n",
    "    return ISIC_LABELS_TO_IDX[label]\n",
    "label_transform = torchvision.transforms.Lambda(isic_label_to_idx)\n",
    "\n",
    "isic_dataset = CSVDataset(data_root_dir,csv_path,img_transform,isic_label_to_idx)\n"
   ]
  },
  {
   "cell_type": "code",
   "execution_count": null,
   "metadata": {},
   "outputs": [],
   "source": []
  }
 ],
 "metadata": {
  "kernelspec": {
   "display_name": "bpef_ent",
   "language": "python",
   "name": "python3"
  },
  "language_info": {
   "codemirror_mode": {
    "name": "ipython",
    "version": 3
   },
   "file_extension": ".py",
   "mimetype": "text/x-python",
   "name": "python",
   "nbconvert_exporter": "python",
   "pygments_lexer": "ipython3",
   "version": "3.8.18"
  }
 },
 "nbformat": 4,
 "nbformat_minor": 2
}
